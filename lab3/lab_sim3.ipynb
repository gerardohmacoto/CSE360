{
 "cells": [
  {
   "cell_type": "code",
   "execution_count": null,
   "id": "5ed6c248",
   "metadata": {},
   "outputs": [],
   "source": [
    "import sys\n",
    "from Motor import *\n",
    "\n",
    "PWM = Motor()\n",
    "speed_forward = 1000\n",
    "speed_back = -1000\n",
    "\n",
    "\n",
    "#sensors:\n",
    "from Ultrasonic import *\n",
    "ultrasonic = Ultrasonic()\n",
    "\n",
    "def ultraSensor():\n",
    "    global data\n",
    "    data = ultrasonic.get_distance()\n",
    "    print(\"Obstacle distance: \" + str(dat) + \"CM\")\n",
    "    time.sleep(0.1)\n",
    "    return data\n",
    "\n",
    "def program_run():\n",
    "    while True:\n",
    "        try:\n",
    "            K = 80\n",
    "            x_d = 50\n",
    "            x = ultraSensor()\n",
    "            u = K * (x_d - x) * -1 #p-controller\n",
    "            #control motors:\n",
    "            PWM.setMotorModel(u,u,u,u)\n",
    "        except KeyboardInterrupt:\n",
    "            PWM.setMotorModel(0,0,0,0)\n",
    "            sys.exit(\"\\nExiting Program!\")\n",
    "\n",
    "program_run()            \n"
   ]
  },
  {
   "cell_type": "code",
   "execution_count": null,
   "id": "eafb73ab",
   "metadata": {},
   "outputs": [],
   "source": []
  }
 ],
 "metadata": {
  "kernelspec": {
   "display_name": "Python 3 (ipykernel)",
   "language": "python",
   "name": "python3"
  },
  "language_info": {
   "codemirror_mode": {
    "name": "ipython",
    "version": 3
   },
   "file_extension": ".py",
   "mimetype": "text/x-python",
   "name": "python",
   "nbconvert_exporter": "python",
   "pygments_lexer": "ipython3",
   "version": "3.9.13"
  }
 },
 "nbformat": 4,
 "nbformat_minor": 5
}
